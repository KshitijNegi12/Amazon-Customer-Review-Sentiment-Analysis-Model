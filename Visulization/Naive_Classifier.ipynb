{
 "cells": [
  {
   "cell_type": "code",
   "execution_count": 1,
   "metadata": {},
   "outputs": [],
   "source": [
    "import pandas as pd\n",
    "import numpy as np\n",
    "import matplotlib.pyplot as plt\n",
    "import seaborn as sns\n",
    "from sklearn.feature_extraction.text import CountVectorizer as cv\n",
    "from sklearn.naive_bayes import MultinomialNB\n",
    "from sklearn.metrics import classification_report, confusion_matrix\n",
    "import string\n",
    "from nltk.corpus import stopwords\n",
    "\n",
    "stopw = stopwords.words('english')\n",
    "stopw.extend(list(string.ascii_lowercase))\n",
    "stopw.extend(['0','1','2','3','4','5','6','7','8','9'])\n",
    "punctuation = string.punctuation + '1234567890Â©á»áº¯ÄÃ' + '¢`~¡¢£¤¥¦§¨©ª«¬®¯°±²³´µ¶·¸¹º»¼½¾¿×÷¢£¤¥¦§©´µ¶·¸¹º€£¥₹₽₿₣₱₩₨₫₮₭₣₢₥₦₠₡₧₤₮₯₰₲₱₴₵₸₹₺₻₼₽₿'\n",
    "\n",
    "def my_review_filter(review):\n",
    "    stopwords_lower = set(stopw)\n",
    "    cleaned_review = (''.join(ch for ch in review if ch not in punctuation)).lower()\n",
    "    filtered_words = [word for word in cleaned_review.split() if word not in stopwords_lower]\n",
    "    return filtered_words\n",
    "\n",
    "train = pd.read_csv('../Dataset/train.csv')"
   ]
  },
  {
   "cell_type": "code",
   "execution_count": 3,
   "metadata": {},
   "outputs": [
    {
     "data": {
      "text/plain": [
       "(12000, 10812)"
      ]
     },
     "execution_count": 3,
     "metadata": {},
     "output_type": "execute_result"
    }
   ],
   "source": [
    "vector =cv(analyzer=my_review_filter, dtype=np.uint8)\n",
    "X_train = vector.fit_transform(train['Review'])\n",
    "y_train = train['Sentiment']\n",
    "X_train.shape"
   ]
  },
  {
   "cell_type": "code",
   "execution_count": 4,
   "metadata": {},
   "outputs": [
    {
     "name": "stdout",
     "output_type": "stream",
     "text": [
      "['gud', 'product', 'value', 'money', 'good', 'like', 'top', 'quality', 'easy', 'beginner']\n"
     ]
    }
   ],
   "source": [
    "print(list(vector.vocabulary_.keys())[:10])"
   ]
  },
  {
   "cell_type": "code",
   "execution_count": 6,
   "metadata": {},
   "outputs": [],
   "source": [
    "test=pd.read_csv(r'../Dataset/test.csv')\n",
    "X_test= vector.transform(test['Review'])\n",
    "y_test=test['Sentiment']"
   ]
  },
  {
   "cell_type": "code",
   "execution_count": 7,
   "metadata": {},
   "outputs": [
    {
     "data": {
      "image/png": "[encoded data removed]",
      "text/plain": [
       "<Figure size 640x480 with 2 Axes>"
      ]
     },
     "metadata": {},
     "output_type": "display_data"
    },
    {
     "name": "stdout",
     "output_type": "stream",
     "text": [
      "              precision    recall  f1-score   support\n",
      "\n",
      "          -1       0.72      0.70      0.71      1000\n",
      "           0       0.67      0.57      0.62      1000\n",
      "           1       0.73      0.85      0.79      1000\n",
      "\n",
      "    accuracy                           0.71      3000\n",
      "   macro avg       0.71      0.71      0.71      3000\n",
      "weighted avg       0.71      0.71      0.71      3000\n",
      "\n"
     ]
    }
   ],
   "source": [
    "NB_classifier = MultinomialNB()\n",
    "NB_classifier.fit(X_train, y_train)\n",
    "\n",
    "y_predict_test = NB_classifier.predict(X_test)\n",
    "cm = confusion_matrix(y_test, y_predict_test)\n",
    "sns.heatmap(cm, annot=True)\n",
    "plt.xlabel('True value')\n",
    "plt.ylabel('Predicted value')\n",
    "plt.show()\n",
    "\n",
    "print(classification_report(y_test, y_predict_test))"
   ]
  },
  {
   "cell_type": "code",
   "execution_count": 8,
   "metadata": {},
   "outputs": [],
   "source": [
    "def get_confidence_scores(X):\n",
    "    confidence_scores = NB_classifier.predict_proba(X)\n",
    "    return confidence_scores"
   ]
  },
  {
   "cell_type": "code",
   "execution_count": 22,
   "metadata": {},
   "outputs": [
    {
     "name": "stdout",
     "output_type": "stream",
     "text": [
      "The predicted value for good quality is: POSITIVE (confidence: 45.01)\n",
      "The predicted value for ok is: Neutral (confidence: 72.16)\n",
      "The predicted value for awsome product is: POSITIVE (confidence: 72.44)\n",
      "The predicted value for dont buy this is: NEGATIVE (confidence: 88.11)\n"
     ]
    }
   ],
   "source": [
    "l = ['good quality','ok', 'awsome product', 'dont buy this']\n",
    "X_input = vector.transform(l)\n",
    "res = NB_classifier.predict(X_input)\n",
    "confidence_scores = get_confidence_scores(X_input)\n",
    "\n",
    "for i in range(len(l)):\n",
    "    print(f\"The predicted value for {l[i]} is: \", end=\"\")\n",
    "    n = res[i]\n",
    "    if n == 1:\n",
    "        print(f'POSITIVE (confidence: {100*confidence_scores[i][2]:.2f})')\n",
    "    elif n == 0:\n",
    "        print(f'Neutral (confidence: {100*confidence_scores[i][1]:.2f})')\n",
    "    else:\n",
    "        print(f'NEGATIVE (confidence: {100*confidence_scores[i][0]:.2f})')\n"
   ]
  },
  {
   "cell_type": "code",
   "execution_count": 23,
   "metadata": {},
   "outputs": [
    {
     "name": "stdout",
     "output_type": "stream",
     "text": [
      "[ 1  0  1 -1]\n",
      "[[0.21510299 0.33477728 0.45011973]\n",
      " [0.13780343 0.72163254 0.14056403]\n",
      " [0.11654798 0.15904542 0.7244066 ]\n",
      " [0.88105569 0.05847777 0.06046654]]\n"
     ]
    }
   ],
   "source": [
    "print(res)\n",
    "print(confidence_scores)"
   ]
  }
 ],
 "metadata": {
  "kernelspec": {
   "display_name": "Python 3",
   "language": "python",
   "name": "python3"
  },
  "language_info": {
   "codemirror_mode": {
    "name": "ipython",
    "version": 3
   },
   "file_extension": ".py",
   "mimetype": "text/x-python",
   "name": "python",
   "nbconvert_exporter": "python",
   "pygments_lexer": "ipython3",
   "version": "3.12.6"
  },
  "orig_nbformat": 4
 },
 "nbformat": 4,
 "nbformat_minor": 2
}
