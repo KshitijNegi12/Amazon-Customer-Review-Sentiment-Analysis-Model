{
 "cells": [
  {
   "cell_type": "code",
   "execution_count": 1,
   "metadata": {},
   "outputs": [],
   "source": [
    "import pandas as pd\n",
    "import numpy as np\n",
    "import matplotlib.pyplot as plt\n",
    "import seaborn as sns\n",
    "from sklearn.feature_extraction.text import CountVectorizer as cv\n",
    "from sklearn.naive_bayes import MultinomialNB\n",
    "from sklearn.metrics import classification_report, confusion_matrix\n",
    "import string\n",
    "from nltk.corpus import stopwords\n",
    "\n",
    "stopw = stopwords.words('english')\n",
    "stopw.extend(list(string.ascii_lowercase))\n",
    "stopw.extend(['0','1','2','3','4','5','6','7','8','9'])\n",
    "punctuation = string.punctuation + '1234567890Â©á»áº¯ÄÃ' + '¢`~¡¢£¤¥¦§¨©ª«¬®¯°±²³´µ¶·¸¹º»¼½¾¿×÷¢£¤¥¦§©´µ¶·¸¹º€£¥₹₽₿₣₱₩₨₫₮₭₣₢₥₦₠₡₧₤₮₯₰₲₱₴₵₸₹₺₻₼₽₿'\n",
    "\n",
    "def my_review_filter(review):\n",
    "    stopwords_lower = set(stopw)\n",
    "    cleaned_review = (''.join(ch for ch in review if ch not in punctuation)).lower()\n",
    "    filtered_words = [word for word in cleaned_review.split() if word not in stopwords_lower]\n",
    "    return filtered_words\n",
    "\n",
    "df1 = pd.read_csv(r'../Dataset/pos_label.csv',encoding='UTF-8')\n",
    "df2 = pd.read_csv(r'../Dataset/neg_label.csv',encoding='UTF-8')\n",
    "df = pd.concat([df1,df2], ignore_index=True)\n",
    "# df=df3\n"
   ]
  },
  {
   "cell_type": "code",
   "execution_count": 2,
   "metadata": {},
   "outputs": [
    {
     "data": {
      "text/plain": [
       "(200000, 359857)"
      ]
     },
     "execution_count": 2,
     "metadata": {},
     "output_type": "execute_result"
    }
   ],
   "source": [
    "vector =cv(analyzer=my_review_filter, dtype=np.uint8)\n",
    "X_train = vector.fit_transform(df['Comment'])\n",
    "y_train = df['Label']\n",
    "X_train.shape"
   ]
  },
  {
   "cell_type": "code",
   "execution_count": 3,
   "metadata": {},
   "outputs": [
    {
     "name": "stdout",
     "output_type": "stream",
     "text": [
      "['cute', 'colorful', 'fun', 'bookthis', 'great', 'little', 'book', 'babies', 'toddlers', 'pictures']\n"
     ]
    }
   ],
   "source": [
    "print(list(vector.vocabulary_.keys())[:10])"
   ]
  },
  {
   "cell_type": "code",
   "execution_count": 8,
   "metadata": {},
   "outputs": [],
   "source": [
    "df3=pd.read_csv(r'../Dataset/test.csv')\n",
    "X_test= vector.transform(df3['Comment'])\n",
    "y_test=df3['Label']"
   ]
  },
  {
   "cell_type": "code",
   "execution_count": 5,
   "metadata": {},
   "outputs": [
    {
     "data": {
      "image/png": "[encoded data removed]",
      "text/plain": [
       "<Figure size 640x480 with 2 Axes>"
      ]
     },
     "metadata": {},
     "output_type": "display_data"
    },
    {
     "name": "stdout",
     "output_type": "stream",
     "text": [
      "              precision    recall  f1-score   support\n",
      "\n",
      "           0       0.84      0.85      0.85    100000\n",
      "           1       0.85      0.84      0.85    100000\n",
      "\n",
      "    accuracy                           0.85    200000\n",
      "   macro avg       0.85      0.85      0.85    200000\n",
      "weighted avg       0.85      0.85      0.85    200000\n",
      "\n"
     ]
    }
   ],
   "source": [
    "NB_classifier = MultinomialNB()\n",
    "NB_classifier.fit(X_train, y_train)\n",
    "\n",
    "y_predict_test = NB_classifier.predict(X_test)\n",
    "cm = confusion_matrix(y_test, y_predict_test)\n",
    "sns.heatmap(cm, annot=True)\n",
    "plt.xlabel('True value')\n",
    "plt.ylabel('Predicted value')\n",
    "plt.show()\n",
    "\n",
    "print(classification_report(y_test, y_predict_test))"
   ]
  },
  {
   "cell_type": "code",
   "execution_count": 6,
   "metadata": {},
   "outputs": [],
   "source": [
    "def get_confidence_scores(X):\n",
    "    confidence_scores = NB_classifier.predict_proba(X)\n",
    "    return confidence_scores"
   ]
  },
  {
   "cell_type": "code",
   "execution_count": 7,
   "metadata": {},
   "outputs": [
    {
     "name": "stdout",
     "output_type": "stream",
     "text": [
      "The predicted value for wow that's beatiful is: POSITIVE (confidence: 84.64)\n",
      "The predicted value for that's awful is: NEGATIVE (confidence: 94.65)\n",
      "The predicted value for for real? is: NEGATIVE (confidence: 50.41)\n",
      "The predicted value for nice is: POSITIVE (confidence: 64.13)\n",
      "The predicted value for awsome product, should buy this is: POSITIVE (confidence: 75.97)\n",
      "The predicted value for not worth it is: NEGATIVE (confidence: 50.45)\n"
     ]
    }
   ],
   "source": [
    "l = [\"wow that's beatiful\",\"that's awful\", 'for real?', 'nice', 'awsome product, should buy this', 'not worth it']\n",
    "X_input = vector.transform(l)\n",
    "res = NB_classifier.predict(X_input)\n",
    "confidence_scores = get_confidence_scores(X_input)\n",
    "\n",
    "for i in range(len(l)):\n",
    "    print(f\"The predicted value for {l[i]} is: \", end=\"\")\n",
    "    n = res[i]\n",
    "    if n == 1:\n",
    "        print(f'POSITIVE (confidence: {100*confidence_scores[i][1]:.2f})')\n",
    "    else:\n",
    "        print(f'NEGATIVE (confidence: {100*confidence_scores[i][0]:.2f})')\n"
   ]
  }
 ],
 "metadata": {
  "kernelspec": {
   "display_name": "Python 3",
   "language": "python",
   "name": "python3"
  },
  "language_info": {
   "codemirror_mode": {
    "name": "ipython",
    "version": 3
   },
   "file_extension": ".py",
   "mimetype": "text/x-python",
   "name": "python",
   "nbconvert_exporter": "python",
   "pygments_lexer": "ipython3",
   "version": "3.8.10"
  },
  "orig_nbformat": 4
 },
 "nbformat": 4,
 "nbformat_minor": 2
}
